{
 "cells": [
  {
   "cell_type": "code",
   "execution_count": 68,
   "id": "1d1c4450",
   "metadata": {},
   "outputs": [],
   "source": [
    "import numpy as np \n",
    "import pandas as pd\n",
    "import matplotlib.pyplot as plt \n",
    "import seaborn as sns\n",
    "\n",
    "\n"
   ]
  },
  {
   "cell_type": "code",
   "execution_count": 69,
   "id": "b9e76ebd",
   "metadata": {},
   "outputs": [],
   "source": [
    "train = pd.read_csv('sign_mnist_train/sign_mnist_train.csv')\n",
    "test = pd.read_csv('sign_mnist_test/sign_mnist_test.csv')"
   ]
  },
  {
   "cell_type": "code",
   "execution_count": 70,
   "id": "fe0efbf9",
   "metadata": {},
   "outputs": [
    {
     "data": {
      "text/html": [
       "<div>\n",
       "<style scoped>\n",
       "    .dataframe tbody tr th:only-of-type {\n",
       "        vertical-align: middle;\n",
       "    }\n",
       "\n",
       "    .dataframe tbody tr th {\n",
       "        vertical-align: top;\n",
       "    }\n",
       "\n",
       "    .dataframe thead th {\n",
       "        text-align: right;\n",
       "    }\n",
       "</style>\n",
       "<table border=\"1\" class=\"dataframe\">\n",
       "  <thead>\n",
       "    <tr style=\"text-align: right;\">\n",
       "      <th></th>\n",
       "      <th>label</th>\n",
       "      <th>pixel1</th>\n",
       "      <th>pixel2</th>\n",
       "      <th>pixel3</th>\n",
       "      <th>pixel4</th>\n",
       "      <th>pixel5</th>\n",
       "      <th>pixel6</th>\n",
       "      <th>pixel7</th>\n",
       "      <th>pixel8</th>\n",
       "      <th>pixel9</th>\n",
       "      <th>...</th>\n",
       "      <th>pixel775</th>\n",
       "      <th>pixel776</th>\n",
       "      <th>pixel777</th>\n",
       "      <th>pixel778</th>\n",
       "      <th>pixel779</th>\n",
       "      <th>pixel780</th>\n",
       "      <th>pixel781</th>\n",
       "      <th>pixel782</th>\n",
       "      <th>pixel783</th>\n",
       "      <th>pixel784</th>\n",
       "    </tr>\n",
       "  </thead>\n",
       "  <tbody>\n",
       "    <tr>\n",
       "      <th>0</th>\n",
       "      <td>3</td>\n",
       "      <td>107</td>\n",
       "      <td>118</td>\n",
       "      <td>127</td>\n",
       "      <td>134</td>\n",
       "      <td>139</td>\n",
       "      <td>143</td>\n",
       "      <td>146</td>\n",
       "      <td>150</td>\n",
       "      <td>153</td>\n",
       "      <td>...</td>\n",
       "      <td>207</td>\n",
       "      <td>207</td>\n",
       "      <td>207</td>\n",
       "      <td>207</td>\n",
       "      <td>206</td>\n",
       "      <td>206</td>\n",
       "      <td>206</td>\n",
       "      <td>204</td>\n",
       "      <td>203</td>\n",
       "      <td>202</td>\n",
       "    </tr>\n",
       "    <tr>\n",
       "      <th>1</th>\n",
       "      <td>6</td>\n",
       "      <td>155</td>\n",
       "      <td>157</td>\n",
       "      <td>156</td>\n",
       "      <td>156</td>\n",
       "      <td>156</td>\n",
       "      <td>157</td>\n",
       "      <td>156</td>\n",
       "      <td>158</td>\n",
       "      <td>158</td>\n",
       "      <td>...</td>\n",
       "      <td>69</td>\n",
       "      <td>149</td>\n",
       "      <td>128</td>\n",
       "      <td>87</td>\n",
       "      <td>94</td>\n",
       "      <td>163</td>\n",
       "      <td>175</td>\n",
       "      <td>103</td>\n",
       "      <td>135</td>\n",
       "      <td>149</td>\n",
       "    </tr>\n",
       "    <tr>\n",
       "      <th>2</th>\n",
       "      <td>2</td>\n",
       "      <td>187</td>\n",
       "      <td>188</td>\n",
       "      <td>188</td>\n",
       "      <td>187</td>\n",
       "      <td>187</td>\n",
       "      <td>186</td>\n",
       "      <td>187</td>\n",
       "      <td>188</td>\n",
       "      <td>187</td>\n",
       "      <td>...</td>\n",
       "      <td>202</td>\n",
       "      <td>201</td>\n",
       "      <td>200</td>\n",
       "      <td>199</td>\n",
       "      <td>198</td>\n",
       "      <td>199</td>\n",
       "      <td>198</td>\n",
       "      <td>195</td>\n",
       "      <td>194</td>\n",
       "      <td>195</td>\n",
       "    </tr>\n",
       "    <tr>\n",
       "      <th>3</th>\n",
       "      <td>2</td>\n",
       "      <td>211</td>\n",
       "      <td>211</td>\n",
       "      <td>212</td>\n",
       "      <td>212</td>\n",
       "      <td>211</td>\n",
       "      <td>210</td>\n",
       "      <td>211</td>\n",
       "      <td>210</td>\n",
       "      <td>210</td>\n",
       "      <td>...</td>\n",
       "      <td>235</td>\n",
       "      <td>234</td>\n",
       "      <td>233</td>\n",
       "      <td>231</td>\n",
       "      <td>230</td>\n",
       "      <td>226</td>\n",
       "      <td>225</td>\n",
       "      <td>222</td>\n",
       "      <td>229</td>\n",
       "      <td>163</td>\n",
       "    </tr>\n",
       "    <tr>\n",
       "      <th>4</th>\n",
       "      <td>13</td>\n",
       "      <td>164</td>\n",
       "      <td>167</td>\n",
       "      <td>170</td>\n",
       "      <td>172</td>\n",
       "      <td>176</td>\n",
       "      <td>179</td>\n",
       "      <td>180</td>\n",
       "      <td>184</td>\n",
       "      <td>185</td>\n",
       "      <td>...</td>\n",
       "      <td>92</td>\n",
       "      <td>105</td>\n",
       "      <td>105</td>\n",
       "      <td>108</td>\n",
       "      <td>133</td>\n",
       "      <td>163</td>\n",
       "      <td>157</td>\n",
       "      <td>163</td>\n",
       "      <td>164</td>\n",
       "      <td>179</td>\n",
       "    </tr>\n",
       "  </tbody>\n",
       "</table>\n",
       "<p>5 rows × 785 columns</p>\n",
       "</div>"
      ],
      "text/plain": [
       "   label  pixel1  pixel2  pixel3  pixel4  pixel5  pixel6  pixel7  pixel8  \\\n",
       "0      3     107     118     127     134     139     143     146     150   \n",
       "1      6     155     157     156     156     156     157     156     158   \n",
       "2      2     187     188     188     187     187     186     187     188   \n",
       "3      2     211     211     212     212     211     210     211     210   \n",
       "4     13     164     167     170     172     176     179     180     184   \n",
       "\n",
       "   pixel9  ...  pixel775  pixel776  pixel777  pixel778  pixel779  pixel780  \\\n",
       "0     153  ...       207       207       207       207       206       206   \n",
       "1     158  ...        69       149       128        87        94       163   \n",
       "2     187  ...       202       201       200       199       198       199   \n",
       "3     210  ...       235       234       233       231       230       226   \n",
       "4     185  ...        92       105       105       108       133       163   \n",
       "\n",
       "   pixel781  pixel782  pixel783  pixel784  \n",
       "0       206       204       203       202  \n",
       "1       175       103       135       149  \n",
       "2       198       195       194       195  \n",
       "3       225       222       229       163  \n",
       "4       157       163       164       179  \n",
       "\n",
       "[5 rows x 785 columns]"
      ]
     },
     "execution_count": 70,
     "metadata": {},
     "output_type": "execute_result"
    }
   ],
   "source": [
    "train.head()\n"
   ]
  },
  {
   "cell_type": "code",
   "execution_count": 71,
   "id": "955a9246",
   "metadata": {},
   "outputs": [],
   "source": [
    "#get our training labels \n",
    "labels = train['label'].values"
   ]
  },
  {
   "cell_type": "code",
   "execution_count": 72,
   "id": "12cd25b3",
   "metadata": {},
   "outputs": [
    {
     "data": {
      "text/plain": [
       "array([ 0,  1,  2,  3,  4,  5,  6,  7,  8, 10, 11, 12, 13, 14, 15, 16, 17,\n",
       "       18, 19, 20, 21, 22, 23, 24])"
      ]
     },
     "execution_count": 72,
     "metadata": {},
     "output_type": "execute_result"
    }
   ],
   "source": [
    "# View the unique labels. 24 in total (no 9)\n",
    "unique_val = np.array(labels)\n",
    "np.unique(unique_val)\n"
   ]
  },
  {
   "cell_type": "code",
   "execution_count": 73,
   "id": "bb070e63",
   "metadata": {},
   "outputs": [
    {
     "data": {
      "text/plain": [
       "<AxesSubplot:ylabel='count'>"
      ]
     },
     "execution_count": 73,
     "metadata": {},
     "output_type": "execute_result"
    },
    {
     "data": {
      "image/png": "[encoded data removed]",
      "text/plain": [
       "<Figure size 1296x576 with 1 Axes>"
      ]
     },
     "metadata": {
      "needs_background": "light"
     },
     "output_type": "display_data"
    }
   ],
   "source": [
    "#plot the quantities in each class\n",
    "plt.figure(figsize = (18,8))\n",
    "sns.countplot(x =labels)"
   ]
  },
  {
   "cell_type": "code",
   "execution_count": 74,
   "id": "614e14ba",
   "metadata": {},
   "outputs": [],
   "source": [
    "#Drop Training Labels from our training data so we can seperate it \n",
    "train.drop('label',axis = 1, inplace = True)"
   ]
  },
  {
   "cell_type": "code",
   "execution_count": 75,
   "id": "f4aa9c50",
   "metadata": {},
   "outputs": [],
   "source": [
    "#extract the image data from each row in our csv, remember it's in a row of 784 columns\n",
    "\n",
    "images = train.values\n",
    "images = np.array([np.reshape(i,(28,28)) for i in images])\n",
    "images = np.array([i.flatten() for i in images])"
   ]
  },
  {
   "cell_type": "code",
   "execution_count": 76,
   "id": "d3fa7532",
   "metadata": {},
   "outputs": [],
   "source": [
    "# hot one encode our labels \n",
    "\n",
    "from sklearn.preprocessing import LabelBinarizer\n",
    "\n",
    "label_binrizer = LabelBinarizer()\n",
    "labels = label_binrizer.fit_transform(labels)"
   ]
  },
  {
   "cell_type": "code",
   "execution_count": 77,
   "id": "bd569048",
   "metadata": {},
   "outputs": [
    {
     "data": {
      "text/plain": [
       "array([[0, 0, 0, ..., 0, 0, 0],\n",
       "       [0, 0, 0, ..., 0, 0, 0],\n",
       "       [0, 0, 1, ..., 0, 0, 0],\n",
       "       ...,\n",
       "       [0, 0, 0, ..., 0, 0, 0],\n",
       "       [0, 0, 0, ..., 0, 0, 0],\n",
       "       [0, 0, 0, ..., 0, 1, 0]])"
      ]
     },
     "execution_count": 77,
     "metadata": {},
     "output_type": "execute_result"
    }
   ],
   "source": [
    "#View our labels\n",
    "labels"
   ]
  },
  {
   "cell_type": "code",
   "execution_count": 78,
   "id": "ba402ae9",
   "metadata": {},
   "outputs": [
    {
     "name": "stdout",
     "output_type": "stream",
     "text": [
      "[0 0 1 0 0 0 0 0 0 0 0 0 0 0 0 0 0 0 0 0 0 0 0 0]\n"
     ]
    },
    {
     "data": {
      "text/plain": [
       "<matplotlib.image.AxesImage at 0x7faad3694f40>"
      ]
     },
     "execution_count": 78,
     "metadata": {},
     "output_type": "execute_result"
    },
    {
     "data": {
      "image/png": "[encoded data removed]",
      "text/plain": [
       "<Figure size 432x288 with 1 Axes>"
      ]
     },
     "metadata": {
      "needs_background": "light"
     },
     "output_type": "display_data"
    }
   ],
   "source": [
    "# Inspecing an image \n",
    "\n",
    "index = 2\n",
    "\n",
    "print(labels[index])\n",
    "\n",
    "plt.imshow(images[index].reshape(28,28))"
   ]
  },
  {
   "cell_type": "code",
   "execution_count": 79,
   "id": "1db93bea",
   "metadata": {},
   "outputs": [
    {
     "ename": "error",
     "evalue": "OpenCV(4.8.1) /io/opencv/modules/highgui/src/window.cpp:1272: error: (-2:Unspecified error) The function is not implemented. Rebuild the library with Windows, GTK+ 2.x or Cocoa support. If you are on Ubuntu or Debian, install libgtk2.0-dev and pkg-config, then re-run cmake or configure script in function 'cvShowImage'\n",
     "output_type": "error",
     "traceback": [
      "\u001b[0;31m---------------------------------------------------------------------------\u001b[0m",
      "\u001b[0;31merror\u001b[0m                                     Traceback (most recent call last)",
      "\u001b[0;32m/tmp/ipykernel_26246/1239699683.py\u001b[0m in \u001b[0;36m<module>\u001b[0;34m\u001b[0m\n\u001b[1;32m     11\u001b[0m     \u001b[0msample\u001b[0m \u001b[0;34m=\u001b[0m \u001b[0minput_im\u001b[0m\u001b[0;34m.\u001b[0m\u001b[0mreshape\u001b[0m\u001b[0;34m(\u001b[0m\u001b[0;36m28\u001b[0m\u001b[0;34m,\u001b[0m \u001b[0;36m28\u001b[0m\u001b[0;34m)\u001b[0m\u001b[0;34m.\u001b[0m\u001b[0mastype\u001b[0m\u001b[0;34m(\u001b[0m\u001b[0mnp\u001b[0m\u001b[0;34m.\u001b[0m\u001b[0muint8\u001b[0m\u001b[0;34m)\u001b[0m\u001b[0;34m\u001b[0m\u001b[0;34m\u001b[0m\u001b[0m\n\u001b[1;32m     12\u001b[0m     \u001b[0msample\u001b[0m \u001b[0;34m=\u001b[0m \u001b[0mcv2\u001b[0m\u001b[0;34m.\u001b[0m\u001b[0mresize\u001b[0m\u001b[0;34m(\u001b[0m\u001b[0msample\u001b[0m\u001b[0;34m,\u001b[0m \u001b[0;32mNone\u001b[0m\u001b[0;34m,\u001b[0m \u001b[0mfx\u001b[0m\u001b[0;34m=\u001b[0m\u001b[0;36m10\u001b[0m\u001b[0;34m,\u001b[0m \u001b[0mfy\u001b[0m\u001b[0;34m=\u001b[0m\u001b[0;36m10\u001b[0m\u001b[0;34m,\u001b[0m \u001b[0minterpolation\u001b[0m\u001b[0;34m=\u001b[0m\u001b[0mcv2\u001b[0m\u001b[0;34m.\u001b[0m\u001b[0mINTER_CUBIC\u001b[0m\u001b[0;34m)\u001b[0m\u001b[0;34m\u001b[0m\u001b[0;34m\u001b[0m\u001b[0m\n\u001b[0;32m---> 13\u001b[0;31m     \u001b[0mcv2\u001b[0m\u001b[0;34m.\u001b[0m\u001b[0mimshow\u001b[0m\u001b[0;34m(\u001b[0m\u001b[0;34m\"sample image\"\u001b[0m\u001b[0;34m,\u001b[0m \u001b[0msample\u001b[0m\u001b[0;34m)\u001b[0m\u001b[0;34m\u001b[0m\u001b[0;34m\u001b[0m\u001b[0m\n\u001b[0m\u001b[1;32m     14\u001b[0m     \u001b[0mcv2\u001b[0m\u001b[0;34m.\u001b[0m\u001b[0mwaitKey\u001b[0m\u001b[0;34m(\u001b[0m\u001b[0;36m0\u001b[0m\u001b[0;34m)\u001b[0m\u001b[0;34m\u001b[0m\u001b[0;34m\u001b[0m\u001b[0m\n\u001b[1;32m     15\u001b[0m \u001b[0;34m\u001b[0m\u001b[0m\n",
      "\u001b[0;31merror\u001b[0m: OpenCV(4.8.1) /io/opencv/modules/highgui/src/window.cpp:1272: error: (-2:Unspecified error) The function is not implemented. Rebuild the library with Windows, GTK+ 2.x or Cocoa support. If you are on Ubuntu or Debian, install libgtk2.0-dev and pkg-config, then re-run cmake or configure script in function 'cvShowImage'\n"
     ]
    }
   ],
   "source": [
    "# Using open cv to view 10 random images\n",
    "import cv2\n",
    "import numpy as np\n",
    "\n",
    "\n",
    "\n",
    "for i in range(0, 10):\n",
    "    rand = np.random.randint(0, len(images))\n",
    "    input_im = images[rand]\n",
    "\n",
    "    sample = input_im.reshape(28, 28).astype(np.uint8)\n",
    "    sample = cv2.resize(sample, None, fx=10, fy=10, interpolation=cv2.INTER_CUBIC)\n",
    "    cv2.imshow(\"sample image\", sample)\n",
    "    cv2.waitKey(0)\n",
    "\n",
    "cv2.destroyAllWindows()\n"
   ]
  },
  {
   "cell_type": "code",
   "execution_count": 80,
   "id": "3dc242d6",
   "metadata": {},
   "outputs": [],
   "source": [
    "#split our data into x_train, x_test, y_train and y_test\n",
    "from sklearn.model_selection import train_test_split\n",
    "\n",
    "x_train, x_test, y_train, y_test = train_test_split(images, labels, test_size = 0.3, random_state = 101)"
   ]
  },
  {
   "cell_type": "code",
   "execution_count": 81,
   "id": "7a440e7f",
   "metadata": {},
   "outputs": [],
   "source": [
    "#start loding our tensorflow modules and define out batch size ets \n",
    "from tensorflow.keras.models import Sequential\n",
    "from tensorflow.keras.layers import Dense, Conv2D, MaxPooling2D, Flatten, Dropout\n",
    "\n",
    "batch_size = 128\n",
    "num_classes = 24\n",
    "epochs = 2\n"
   ]
  },
  {
   "cell_type": "code",
   "execution_count": 82,
   "id": "30c35d70",
   "metadata": {},
   "outputs": [],
   "source": [
    "#scale pur images \n",
    "x_train = x_train / 255\n",
    "X_test = x_test / 255"
   ]
  },
  {
   "cell_type": "code",
   "execution_count": 83,
   "id": "84d67169",
   "metadata": {},
   "outputs": [
    {
     "data": {
      "text/plain": [
       "<matplotlib.image.AxesImage at 0x7faad360acb0>"
      ]
     },
     "execution_count": 83,
     "metadata": {},
     "output_type": "execute_result"
    },
    {
     "data": {
      "image/png": "[encoded data removed]",
      "text/plain": [
       "<Figure size 432x288 with 1 Axes>"
      ]
     },
     "metadata": {
      "needs_background": "light"
     },
     "output_type": "display_data"
    }
   ],
   "source": [
    "#reshape them into the size required by TF and Keras \n",
    "x_train = x_train.reshape(x_train.shape[0], 28, 28, 1)\n",
    "x_test = x_test.reshape(x_test.shape[0], 28, 28, 1)\n",
    "\n",
    "\n",
    "plt.imshow(x_train[0].reshape(28,28))"
   ]
  },
  {
   "cell_type": "code",
   "execution_count": 84,
   "id": "11f151ae",
   "metadata": {},
   "outputs": [],
   "source": [
    "# Create our CNN Model\n",
    "from tensorflow.keras.layers import Conv2D, MaxPooling2D\n",
    "from tensorflow.keras import backend as K\n",
    "from tensorflow.keras.optimizers import Adam \n",
    "\n",
    "model = Sequential()\n",
    "model.add(Conv2D(64, kernel_size=(3,3), activation = 'relu', input_shape=(28, 28 ,1) ))\n",
    "model.add(MaxPooling2D(pool_size = (2, 2)))\n",
    "\n",
    "model.add(Conv2D(64, kernel_size = (3, 3), activation = 'relu'))\n",
    "model.add(MaxPooling2D(pool_size = (2, 2)))\n",
    "\n",
    "model.add(Conv2D(64, kernel_size = (3, 3), activation = 'relu'))\n",
    "model.add(MaxPooling2D(pool_size = (2, 2)))\n",
    "\n",
    "model.add(Flatten())\n",
    "model.add(Dense(128, activation = 'relu'))\n",
    "model.add(Dropout(0.20))\n",
    "\n",
    "model.add(Dense(num_classes, activation = 'softmax'))"
   ]
  },
  {
   "cell_type": "code",
   "execution_count": 85,
   "id": "48476736",
   "metadata": {},
   "outputs": [],
   "source": [
    "# Compile our Model \n",
    "model.compile(loss = 'categorical_crossentropy',\n",
    "              optimizer= Adam(),\n",
    "              metrics=['accuracy'])"
   ]
  },
  {
   "cell_type": "code",
   "execution_count": 86,
   "id": "0204a3c7",
   "metadata": {
    "scrolled": false
   },
   "outputs": [
    {
     "name": "stdout",
     "output_type": "stream",
     "text": [
      "Model: \"sequential_1\"\n",
      "_________________________________________________________________\n",
      " Layer (type)                Output Shape              Param #   \n",
      "=================================================================\n",
      " conv2d_3 (Conv2D)           (None, 26, 26, 64)        640       \n",
      "                                                                 \n",
      " max_pooling2d_3 (MaxPoolin  (None, 13, 13, 64)        0         \n",
      " g2D)                                                            \n",
      "                                                                 \n",
      " conv2d_4 (Conv2D)           (None, 11, 11, 64)        36928     \n",
      "                                                                 \n",
      " max_pooling2d_4 (MaxPoolin  (None, 5, 5, 64)          0         \n",
      " g2D)                                                            \n",
      "                                                                 \n",
      " conv2d_5 (Conv2D)           (None, 3, 3, 64)          36928     \n",
      "                                                                 \n",
      " max_pooling2d_5 (MaxPoolin  (None, 1, 1, 64)          0         \n",
      " g2D)                                                            \n",
      "                                                                 \n",
      " flatten_1 (Flatten)         (None, 64)                0         \n",
      "                                                                 \n",
      " dense_2 (Dense)             (None, 128)               8320      \n",
      "                                                                 \n",
      " dropout_2 (Dropout)         (None, 128)               0         \n",
      "                                                                 \n",
      " dense_3 (Dense)             (None, 24)                3096      \n",
      "                                                                 \n",
      "=================================================================\n",
      "Total params: 85912 (335.59 KB)\n",
      "Trainable params: 85912 (335.59 KB)\n",
      "Non-trainable params: 0 (0.00 Byte)\n",
      "_________________________________________________________________\n",
      "None\n"
     ]
    }
   ],
   "source": [
    "print(model.summary())"
   ]
  },
  {
   "cell_type": "code",
   "execution_count": 87,
   "id": "a330767b",
   "metadata": {},
   "outputs": [
    {
     "name": "stdout",
     "output_type": "stream",
     "text": [
      "Epoch 1/2\n",
      "151/151 [==============================] - 5s 27ms/step - loss: 2.6401 - accuracy: 0.1946 - val_loss: 116.1461 - val_accuracy: 0.3772\n",
      "Epoch 2/2\n",
      "151/151 [==============================] - 4s 26ms/step - loss: 1.1969 - accuracy: 0.6003 - val_loss: 80.2176 - val_accuracy: 0.6885\n"
     ]
    }
   ],
   "source": [
    "#Train our Model \n",
    "history = model.fit(x_train, y_train, validation_data = (x_test, y_test), epochs=epochs, batch_size=batch_size)"
   ]
  },
  {
   "cell_type": "code",
   "execution_count": 88,
   "id": "641ec56a",
   "metadata": {},
   "outputs": [
    {
     "name": "stdout",
     "output_type": "stream",
     "text": [
      "Model Saved\n"
     ]
    },
    {
     "name": "stderr",
     "output_type": "stream",
     "text": [
      "/home/ujjwal/.local/lib/python3.10/site-packages/keras/src/engine/training.py:3000: UserWarning: You are saving your model as an HDF5 file via `model.save()`. This file format is considered legacy. We recommend using instead the native Keras format, e.g. `model.save('my_model.keras')`.\n",
      "  saving_api.save_model(\n"
     ]
    }
   ],
   "source": [
    "# Save our model\n",
    "\n",
    "model.save(\"sign_mist_cnn_50_Epochs.h5\")\n",
    "print(\"Model Saved\")"
   ]
  },
  {
   "cell_type": "code",
   "execution_count": 89,
   "id": "709d48a9",
   "metadata": {},
   "outputs": [
    {
     "name": "stderr",
     "output_type": "stream",
     "text": [
      "/tmp/ipykernel_26246/715386904.py:9: UserWarning: Matplotlib is currently using agg, which is a non-GUI backend, so cannot show the figure.\n",
      "  plt.show()\n"
     ]
    },
    {
     "data": {
      "image/png": "[encoded data removed]",
      "text/plain": [
       "<Figure size 432x288 with 1 Axes>"
      ]
     },
     "metadata": {
      "needs_background": "light"
     },
     "output_type": "display_data"
    }
   ],
   "source": [
    "    #View our training history graphically\n",
    "    plt.plot(history.history['accuracy'])\n",
    "    plt.plot(history.history['val_accuracy'])\n",
    "    plt.title(\"Accuracy\")\n",
    "    plt.xlabel('epoch')\n",
    "    plt.ylabel('accuracy')\n",
    "    plt.legend(['train','test'])\n",
    "\n",
    "    plt.show()"
   ]
  },
  {
   "cell_type": "code",
   "execution_count": 90,
   "id": "b4fbd6b6",
   "metadata": {},
   "outputs": [
    {
     "name": "stdout",
     "output_type": "stream",
     "text": [
      "Defaulting to user installation because normal site-packages is not writeable\n",
      "Requirement already satisfied: pip in /home/ujjwal/.local/lib/python3.10/site-packages (23.2.1)\n",
      "Defaulting to user installation because normal site-packages is not writeable\n",
      "Requirement already satisfied: mediapipe-model-maker in /home/ujjwal/.local/lib/python3.10/site-packages (0.2.1.3)\n",
      "Requirement already satisfied: absl-py in /home/ujjwal/.local/lib/python3.10/site-packages (from mediapipe-model-maker) (1.4.0)\n",
      "Requirement already satisfied: mediapipe>=0.10.0 in /home/ujjwal/.local/lib/python3.10/site-packages (from mediapipe-model-maker) (0.10.5)\n",
      "Requirement already satisfied: numpy in /home/ujjwal/.local/lib/python3.10/site-packages (from mediapipe-model-maker) (1.23.4)\n",
      "Requirement already satisfied: opencv-python in /home/ujjwal/.local/lib/python3.10/site-packages (from mediapipe-model-maker) (4.7.0.72)\n",
      "Requirement already satisfied: tensorflow>=2.10 in /home/ujjwal/.local/lib/python3.10/site-packages (from mediapipe-model-maker) (2.13.0)\n",
      "Requirement already satisfied: tensorflow-addons in /home/ujjwal/.local/lib/python3.10/site-packages (from mediapipe-model-maker) (0.21.0)\n",
      "Requirement already satisfied: tensorflow-datasets in /home/ujjwal/.local/lib/python3.10/site-packages (from mediapipe-model-maker) (4.9.3)\n",
      "Requirement already satisfied: tensorflow-hub in /home/ujjwal/.local/lib/python3.10/site-packages (from mediapipe-model-maker) (0.14.0)\n",
      "Requirement already satisfied: tf-models-official>=2.13.1 in /home/ujjwal/.local/lib/python3.10/site-packages (from mediapipe-model-maker) (2.13.2)\n",
      "Requirement already satisfied: attrs>=19.1.0 in /usr/lib/python3/dist-packages (from mediapipe>=0.10.0->mediapipe-model-maker) (21.2.0)\n",
      "Requirement already satisfied: flatbuffers>=2.0 in /home/ujjwal/.local/lib/python3.10/site-packages (from mediapipe>=0.10.0->mediapipe-model-maker) (23.5.26)\n",
      "Requirement already satisfied: matplotlib in /usr/lib/python3/dist-packages (from mediapipe>=0.10.0->mediapipe-model-maker) (3.5.1)\n",
      "Requirement already satisfied: opencv-contrib-python in /home/ujjwal/.local/lib/python3.10/site-packages (from mediapipe>=0.10.0->mediapipe-model-maker) (4.8.1.78)\n",
      "Requirement already satisfied: protobuf<4,>=3.11 in /home/ujjwal/.local/lib/python3.10/site-packages (from mediapipe>=0.10.0->mediapipe-model-maker) (3.20.3)\n",
      "Requirement already satisfied: sounddevice>=0.4.4 in /home/ujjwal/.local/lib/python3.10/site-packages (from mediapipe>=0.10.0->mediapipe-model-maker) (0.4.6)\n",
      "Requirement already satisfied: astunparse>=1.6.0 in /home/ujjwal/.local/lib/python3.10/site-packages (from tensorflow>=2.10->mediapipe-model-maker) (1.6.3)\n",
      "Requirement already satisfied: gast<=0.4.0,>=0.2.1 in /home/ujjwal/.local/lib/python3.10/site-packages (from tensorflow>=2.10->mediapipe-model-maker) (0.4.0)\n",
      "Requirement already satisfied: google-pasta>=0.1.1 in /home/ujjwal/.local/lib/python3.10/site-packages (from tensorflow>=2.10->mediapipe-model-maker) (0.2.0)\n",
      "Requirement already satisfied: grpcio<2.0,>=1.24.3 in /home/ujjwal/.local/lib/python3.10/site-packages (from tensorflow>=2.10->mediapipe-model-maker) (1.57.0)\n",
      "Requirement already satisfied: h5py>=2.9.0 in /home/ujjwal/.local/lib/python3.10/site-packages (from tensorflow>=2.10->mediapipe-model-maker) (3.9.0)\n",
      "Requirement already satisfied: keras<2.14,>=2.13.1 in /home/ujjwal/.local/lib/python3.10/site-packages (from tensorflow>=2.10->mediapipe-model-maker) (2.13.1)\n",
      "Requirement already satisfied: libclang>=13.0.0 in /home/ujjwal/.local/lib/python3.10/site-packages (from tensorflow>=2.10->mediapipe-model-maker) (16.0.6)\n",
      "Requirement already satisfied: opt-einsum>=2.3.2 in /home/ujjwal/.local/lib/python3.10/site-packages (from tensorflow>=2.10->mediapipe-model-maker) (3.3.0)\n",
      "Requirement already satisfied: packaging in /usr/lib/python3/dist-packages (from tensorflow>=2.10->mediapipe-model-maker) (21.3)\n",
      "Requirement already satisfied: setuptools in /usr/lib/python3/dist-packages (from tensorflow>=2.10->mediapipe-model-maker) (59.6.0)\n",
      "Requirement already satisfied: six>=1.12.0 in /usr/lib/python3/dist-packages (from tensorflow>=2.10->mediapipe-model-maker) (1.16.0)\n",
      "Requirement already satisfied: tensorboard<2.14,>=2.13 in /home/ujjwal/.local/lib/python3.10/site-packages (from tensorflow>=2.10->mediapipe-model-maker) (2.13.0)\n",
      "Requirement already satisfied: tensorflow-estimator<2.14,>=2.13.0 in /home/ujjwal/.local/lib/python3.10/site-packages (from tensorflow>=2.10->mediapipe-model-maker) (2.13.0)\n",
      "Requirement already satisfied: termcolor>=1.1.0 in /home/ujjwal/.local/lib/python3.10/site-packages (from tensorflow>=2.10->mediapipe-model-maker) (2.3.0)\n",
      "Requirement already satisfied: typing-extensions<4.6.0,>=3.6.6 in /home/ujjwal/.local/lib/python3.10/site-packages (from tensorflow>=2.10->mediapipe-model-maker) (4.5.0)\n",
      "Requirement already satisfied: wrapt>=1.11.0 in /home/ujjwal/.local/lib/python3.10/site-packages (from tensorflow>=2.10->mediapipe-model-maker) (1.15.0)\n",
      "Requirement already satisfied: tensorflow-io-gcs-filesystem>=0.23.1 in /home/ujjwal/.local/lib/python3.10/site-packages (from tensorflow>=2.10->mediapipe-model-maker) (0.33.0)\n",
      "Requirement already satisfied: Cython in /home/ujjwal/.local/lib/python3.10/site-packages (from tf-models-official>=2.13.1->mediapipe-model-maker) (3.0.2)\n",
      "Requirement already satisfied: Pillow in /usr/lib/python3/dist-packages (from tf-models-official>=2.13.1->mediapipe-model-maker) (9.0.1)\n",
      "Requirement already satisfied: gin-config in /home/ujjwal/.local/lib/python3.10/site-packages (from tf-models-official>=2.13.1->mediapipe-model-maker) (0.5.0)\n",
      "Requirement already satisfied: google-api-python-client>=1.6.7 in /home/ujjwal/.local/lib/python3.10/site-packages (from tf-models-official>=2.13.1->mediapipe-model-maker) (2.102.0)\n",
      "Requirement already satisfied: immutabledict in /home/ujjwal/.local/lib/python3.10/site-packages (from tf-models-official>=2.13.1->mediapipe-model-maker) (3.0.0)\n",
      "Requirement already satisfied: kaggle>=1.3.9 in /home/ujjwal/.local/lib/python3.10/site-packages (from tf-models-official>=2.13.1->mediapipe-model-maker) (1.5.16)\n",
      "Requirement already satisfied: oauth2client in /home/ujjwal/.local/lib/python3.10/site-packages (from tf-models-official>=2.13.1->mediapipe-model-maker) (4.1.3)\n",
      "Requirement already satisfied: opencv-python-headless in /home/ujjwal/.local/lib/python3.10/site-packages (from tf-models-official>=2.13.1->mediapipe-model-maker) (4.8.1.78)\n",
      "Requirement already satisfied: pandas>=0.22.0 in /home/ujjwal/.local/lib/python3.10/site-packages (from tf-models-official>=2.13.1->mediapipe-model-maker) (1.5.1)\n",
      "Requirement already satisfied: psutil>=5.4.3 in /usr/lib/python3/dist-packages (from tf-models-official>=2.13.1->mediapipe-model-maker) (5.9.0)\n",
      "Requirement already satisfied: py-cpuinfo>=3.3.0 in /home/ujjwal/.local/lib/python3.10/site-packages (from tf-models-official>=2.13.1->mediapipe-model-maker) (9.0.0)\n",
      "Requirement already satisfied: pycocotools in /home/ujjwal/.local/lib/python3.10/site-packages (from tf-models-official>=2.13.1->mediapipe-model-maker) (2.0.7)\n",
      "Requirement already satisfied: pyyaml>=6.0.0 in /home/ujjwal/.local/lib/python3.10/site-packages (from tf-models-official>=2.13.1->mediapipe-model-maker) (6.0.1)\n",
      "Requirement already satisfied: sacrebleu in /home/ujjwal/.local/lib/python3.10/site-packages (from tf-models-official>=2.13.1->mediapipe-model-maker) (2.3.1)\n",
      "Requirement already satisfied: scipy>=0.19.1 in /usr/lib/python3/dist-packages (from tf-models-official>=2.13.1->mediapipe-model-maker) (1.8.0)\n",
      "Requirement already satisfied: sentencepiece in /home/ujjwal/.local/lib/python3.10/site-packages (from tf-models-official>=2.13.1->mediapipe-model-maker) (0.1.99)\n",
      "Requirement already satisfied: seqeval in /home/ujjwal/.local/lib/python3.10/site-packages (from tf-models-official>=2.13.1->mediapipe-model-maker) (1.2.2)\n",
      "Requirement already satisfied: tensorflow-model-optimization>=0.4.1 in /home/ujjwal/.local/lib/python3.10/site-packages (from tf-models-official>=2.13.1->mediapipe-model-maker) (0.7.5)\n",
      "Requirement already satisfied: tensorflow-text~=2.13.0 in /home/ujjwal/.local/lib/python3.10/site-packages (from tf-models-official>=2.13.1->mediapipe-model-maker) (2.13.0)\n",
      "Requirement already satisfied: tf-slim>=1.1.0 in /home/ujjwal/.local/lib/python3.10/site-packages (from tf-models-official>=2.13.1->mediapipe-model-maker) (1.1.0)\n",
      "Requirement already satisfied: typeguard<3.0.0,>=2.7 in /home/ujjwal/.local/lib/python3.10/site-packages (from tensorflow-addons->mediapipe-model-maker) (2.13.3)\n"
     ]
    },
    {
     "name": "stdout",
     "output_type": "stream",
     "text": [
      "Requirement already satisfied: array-record in /home/ujjwal/.local/lib/python3.10/site-packages (from tensorflow-datasets->mediapipe-model-maker) (0.4.1)\n",
      "Requirement already satisfied: click in /usr/lib/python3/dist-packages (from tensorflow-datasets->mediapipe-model-maker) (8.0.3)\n",
      "Requirement already satisfied: dm-tree in /home/ujjwal/.local/lib/python3.10/site-packages (from tensorflow-datasets->mediapipe-model-maker) (0.1.8)\n",
      "Requirement already satisfied: etils[enp,epath,etree]>=0.9.0 in /home/ujjwal/.local/lib/python3.10/site-packages (from tensorflow-datasets->mediapipe-model-maker) (1.5.0)\n",
      "Requirement already satisfied: promise in /home/ujjwal/.local/lib/python3.10/site-packages (from tensorflow-datasets->mediapipe-model-maker) (2.3)\n",
      "Requirement already satisfied: requests>=2.19.0 in /usr/lib/python3/dist-packages (from tensorflow-datasets->mediapipe-model-maker) (2.25.1)\n",
      "Requirement already satisfied: tensorflow-metadata in /home/ujjwal/.local/lib/python3.10/site-packages (from tensorflow-datasets->mediapipe-model-maker) (1.14.0)\n",
      "Requirement already satisfied: toml in /home/ujjwal/.local/lib/python3.10/site-packages (from tensorflow-datasets->mediapipe-model-maker) (0.10.2)\n",
      "Requirement already satisfied: tqdm in /home/ujjwal/.local/lib/python3.10/site-packages (from tensorflow-datasets->mediapipe-model-maker) (4.66.1)\n",
      "Requirement already satisfied: wheel<1.0,>=0.23.0 in /usr/lib/python3/dist-packages (from astunparse>=1.6.0->tensorflow>=2.10->mediapipe-model-maker) (0.37.1)\n",
      "Requirement already satisfied: fsspec in /home/ujjwal/.local/lib/python3.10/site-packages (from etils[enp,epath,etree]>=0.9.0->tensorflow-datasets->mediapipe-model-maker) (2023.9.2)\n",
      "Requirement already satisfied: importlib_resources in /home/ujjwal/.local/lib/python3.10/site-packages (from etils[enp,epath,etree]>=0.9.0->tensorflow-datasets->mediapipe-model-maker) (6.1.0)\n",
      "Requirement already satisfied: zipp in /usr/lib/python3/dist-packages (from etils[enp,epath,etree]>=0.9.0->tensorflow-datasets->mediapipe-model-maker) (1.0.0)\n",
      "Requirement already satisfied: httplib2<1.dev0,>=0.15.0 in /usr/lib/python3/dist-packages (from google-api-python-client>=1.6.7->tf-models-official>=2.13.1->mediapipe-model-maker) (0.20.2)\n",
      "Requirement already satisfied: google-auth<3.0.0.dev0,>=1.19.0 in /home/ujjwal/.local/lib/python3.10/site-packages (from google-api-python-client>=1.6.7->tf-models-official>=2.13.1->mediapipe-model-maker) (2.22.0)\n",
      "Requirement already satisfied: google-auth-httplib2>=0.1.0 in /home/ujjwal/.local/lib/python3.10/site-packages (from google-api-python-client>=1.6.7->tf-models-official>=2.13.1->mediapipe-model-maker) (0.1.1)\n",
      "Requirement already satisfied: google-api-core!=2.0.*,!=2.1.*,!=2.2.*,!=2.3.0,<3.0.0.dev0,>=1.31.5 in /home/ujjwal/.local/lib/python3.10/site-packages (from google-api-python-client>=1.6.7->tf-models-official>=2.13.1->mediapipe-model-maker) (2.12.0)\n",
      "Requirement already satisfied: uritemplate<5,>=3.0.1 in /home/ujjwal/.local/lib/python3.10/site-packages (from google-api-python-client>=1.6.7->tf-models-official>=2.13.1->mediapipe-model-maker) (4.1.1)\n",
      "Requirement already satisfied: bleach in /usr/lib/python3/dist-packages (from kaggle>=1.3.9->tf-models-official>=2.13.1->mediapipe-model-maker) (4.1.0)\n",
      "Requirement already satisfied: certifi in /usr/lib/python3/dist-packages (from kaggle>=1.3.9->tf-models-official>=2.13.1->mediapipe-model-maker) (2020.6.20)\n",
      "Requirement already satisfied: python-dateutil in /usr/lib/python3/dist-packages (from kaggle>=1.3.9->tf-models-official>=2.13.1->mediapipe-model-maker) (2.8.1)\n",
      "Requirement already satisfied: python-slugify in /home/ujjwal/.local/lib/python3.10/site-packages (from kaggle>=1.3.9->tf-models-official>=2.13.1->mediapipe-model-maker) (8.0.1)\n",
      "Requirement already satisfied: urllib3 in /usr/lib/python3/dist-packages (from kaggle>=1.3.9->tf-models-official>=2.13.1->mediapipe-model-maker) (1.26.5)\n",
      "Requirement already satisfied: pytz>=2020.1 in /usr/lib/python3/dist-packages (from pandas>=0.22.0->tf-models-official>=2.13.1->mediapipe-model-maker) (2022.1)\n",
      "Requirement already satisfied: CFFI>=1.0 in /home/ujjwal/.local/lib/python3.10/site-packages (from sounddevice>=0.4.4->mediapipe>=0.10.0->mediapipe-model-maker) (1.16.0)\n",
      "Requirement already satisfied: google-auth-oauthlib<1.1,>=0.5 in /home/ujjwal/.local/lib/python3.10/site-packages (from tensorboard<2.14,>=2.13->tensorflow>=2.10->mediapipe-model-maker) (1.0.0)\n",
      "Requirement already satisfied: markdown>=2.6.8 in /usr/lib/python3/dist-packages (from tensorboard<2.14,>=2.13->tensorflow>=2.10->mediapipe-model-maker) (3.3.6)\n",
      "Requirement already satisfied: tensorboard-data-server<0.8.0,>=0.7.0 in /home/ujjwal/.local/lib/python3.10/site-packages (from tensorboard<2.14,>=2.13->tensorflow>=2.10->mediapipe-model-maker) (0.7.1)\n",
      "Requirement already satisfied: werkzeug>=1.0.1 in /home/ujjwal/.local/lib/python3.10/site-packages (from tensorboard<2.14,>=2.13->tensorflow>=2.10->mediapipe-model-maker) (2.3.7)\n",
      "Requirement already satisfied: pyasn1>=0.1.7 in /home/ujjwal/.local/lib/python3.10/site-packages (from oauth2client->tf-models-official>=2.13.1->mediapipe-model-maker) (0.5.0)\n",
      "Requirement already satisfied: pyasn1-modules>=0.0.5 in /home/ujjwal/.local/lib/python3.10/site-packages (from oauth2client->tf-models-official>=2.13.1->mediapipe-model-maker) (0.3.0)\n",
      "Requirement already satisfied: rsa>=3.1.4 in /home/ujjwal/.local/lib/python3.10/site-packages (from oauth2client->tf-models-official>=2.13.1->mediapipe-model-maker) (4.9)\n",
      "Requirement already satisfied: portalocker in /home/ujjwal/.local/lib/python3.10/site-packages (from sacrebleu->tf-models-official>=2.13.1->mediapipe-model-maker) (2.8.2)\n",
      "Requirement already satisfied: regex in /home/ujjwal/.local/lib/python3.10/site-packages (from sacrebleu->tf-models-official>=2.13.1->mediapipe-model-maker) (2023.10.3)\n",
      "Requirement already satisfied: tabulate>=0.8.9 in /home/ujjwal/.local/lib/python3.10/site-packages (from sacrebleu->tf-models-official>=2.13.1->mediapipe-model-maker) (0.9.0)\n",
      "Requirement already satisfied: colorama in /usr/lib/python3/dist-packages (from sacrebleu->tf-models-official>=2.13.1->mediapipe-model-maker) (0.4.4)\n",
      "Requirement already satisfied: lxml in /usr/lib/python3/dist-packages (from sacrebleu->tf-models-official>=2.13.1->mediapipe-model-maker) (4.8.0)\n",
      "Requirement already satisfied: scikit-learn>=0.21.3 in /home/ujjwal/.local/lib/python3.10/site-packages (from seqeval->tf-models-official>=2.13.1->mediapipe-model-maker) (1.2.2)\n",
      "Requirement already satisfied: googleapis-common-protos<2,>=1.52.0 in /home/ujjwal/.local/lib/python3.10/site-packages (from tensorflow-metadata->tensorflow-datasets->mediapipe-model-maker) (1.60.0)\n",
      "Requirement already satisfied: pycparser in /home/ujjwal/.local/lib/python3.10/site-packages (from CFFI>=1.0->sounddevice>=0.4.4->mediapipe>=0.10.0->mediapipe-model-maker) (2.21)\n",
      "Requirement already satisfied: cachetools<6.0,>=2.0.0 in /home/ujjwal/.local/lib/python3.10/site-packages (from google-auth<3.0.0.dev0,>=1.19.0->google-api-python-client>=1.6.7->tf-models-official>=2.13.1->mediapipe-model-maker) (5.3.1)\n",
      "Requirement already satisfied: requests-oauthlib>=0.7.0 in /home/ujjwal/.local/lib/python3.10/site-packages (from google-auth-oauthlib<1.1,>=0.5->tensorboard<2.14,>=2.13->tensorflow>=2.10->mediapipe-model-maker) (1.3.1)\n",
      "Requirement already satisfied: pyparsing!=3.0.0,!=3.0.1,!=3.0.2,!=3.0.3,<4,>=2.4.2 in /usr/lib/python3/dist-packages (from httplib2<1.dev0,>=0.15.0->google-api-python-client>=1.6.7->tf-models-official>=2.13.1->mediapipe-model-maker) (2.4.7)\n",
      "Requirement already satisfied: joblib>=1.1.1 in /home/ujjwal/.local/lib/python3.10/site-packages (from scikit-learn>=0.21.3->seqeval->tf-models-official>=2.13.1->mediapipe-model-maker) (1.2.0)\n",
      "Requirement already satisfied: threadpoolctl>=2.0.0 in /home/ujjwal/.local/lib/python3.10/site-packages (from scikit-learn>=0.21.3->seqeval->tf-models-official>=2.13.1->mediapipe-model-maker) (3.1.0)\n",
      "Requirement already satisfied: MarkupSafe>=2.1.1 in /home/ujjwal/.local/lib/python3.10/site-packages (from werkzeug>=1.0.1->tensorboard<2.14,>=2.13->tensorflow>=2.10->mediapipe-model-maker) (2.1.3)\n",
      "Requirement already satisfied: text-unidecode>=1.3 in /home/ujjwal/.local/lib/python3.10/site-packages (from python-slugify->kaggle>=1.3.9->tf-models-official>=2.13.1->mediapipe-model-maker) (1.3)\n"
     ]
    },
    {
     "name": "stdout",
     "output_type": "stream",
     "text": [
      "Requirement already satisfied: oauthlib>=3.0.0 in /usr/lib/python3/dist-packages (from requests-oauthlib>=0.7.0->google-auth-oauthlib<1.1,>=0.5->tensorboard<2.14,>=2.13->tensorflow>=2.10->mediapipe-model-maker) (3.2.0)\r\n"
     ]
    }
   ],
   "source": [
    "!pip install --upgrade pip\n",
    "!pip install mediapipe-model-maker"
   ]
  },
  {
   "cell_type": "code",
   "execution_count": 96,
   "id": "e4b07258",
   "metadata": {},
   "outputs": [],
   "source": [
    "import cv2\n",
    "import numpy as np\n",
    "import mediapipe as mp\n",
    "import tensorflow as tf\n",
    "from tensorflow.keras.models import load_model"
   ]
  },
  {
   "cell_type": "code",
   "execution_count": 97,
   "id": "ce73087e",
   "metadata": {},
   "outputs": [],
   "source": [
    "# initialize mediapipe\n",
    "mpHands = mp.solutions.hands\n",
    "hands = mpHands.Hands(max_num_hands=1, min_detection_confidence=0.7)\n",
    "mpDraw = mp.solutions.drawing_utils"
   ]
  },
  {
   "cell_type": "code",
   "execution_count": 99,
   "id": "a69fae63",
   "metadata": {},
   "outputs": [
    {
     "name": "stdout",
     "output_type": "stream",
     "text": [
      "['okay', 'peace', 'thumbs up', 'thumbs down', 'call me', 'stop', 'rock', 'live long', 'fist', 'smile']\n"
     ]
    }
   ],
   "source": [
    "# Load the gesture recognizer model\n",
    "model = load_model('mp_hand_gesture')\n",
    "\n",
    "# Load class names\n",
    "f = open('gesture.names', 'r')\n",
    "classNames = f.read().split('\\n')\n",
    "f.close()\n",
    "print(classNames)"
   ]
  },
  {
   "cell_type": "code",
   "execution_count": null,
   "id": "afd6995a",
   "metadata": {},
   "outputs": [],
   "source": [
    "# Initialize the webcam for Hand Gesture Recognition Python project\n",
    "cap = cv2.VideoCapture(0)\n",
    "\n",
    "while True:\n",
    "  # Read each frame from the webcam\n",
    "  _, frame = cap.read()\n",
    "x , y, c = frame.shape\n",
    "\n",
    "  # Flip the frame vertically\n",
    "frame = cv2.flip(frame, 1)\n",
    "  # Show the final output\n",
    "cv2.imshow(\"Output\", frame)\n",
    "if cv2.waitKey(1) == ord('q'):\n",
    "    \t\tbreak\n",
    "\n",
    "# release the webcam and destroy all active windows\n",
    "cap.release()\n",
    "cv2.destroyAllWindows()"
   ]
  }
 ],
 "metadata": {
  "kernelspec": {
   "display_name": "Python 3 (ipykernel)",
   "language": "python",
   "name": "python3"
  },
  "language_info": {
   "codemirror_mode": {
    "name": "ipython",
    "version": 3
   },
   "file_extension": ".py",
   "mimetype": "text/x-python",
   "name": "python",
   "nbconvert_exporter": "python",
   "pygments_lexer": "ipython3",
   "version": "3.10.12"
  }
 },
 "nbformat": 4,
 "nbformat_minor": 5
}
